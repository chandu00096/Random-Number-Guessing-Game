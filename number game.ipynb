{
 "cells": [
  {
   "cell_type": "code",
   "execution_count": 3,
   "id": "a53ee3e9-3f60-4673-99e1-04fed3e47c73",
   "metadata": {},
   "outputs": [],
   "source": [
    "import random\n",
    "import time"
   ]
  },
  {
   "cell_type": "code",
   "execution_count": 4,
   "id": "536268da-01f6-4d6e-b8e2-0bc04304679d",
   "metadata": {},
   "outputs": [],
   "source": [
    "def welcome_message():\n",
    "    print(\"Welcome to the Number Guessing Game!\")\n",
    "    print(\"I'm thinking of a number between 1 and 100.\")"
   ]
  },
  {
   "cell_type": "code",
   "execution_count": 5,
   "id": "3e3ffe7a-3b2f-4fad-af89-9cf297f7356e",
   "metadata": {},
   "outputs": [],
   "source": [
    "def select_difficulty():\n",
    "    print(\"\\nPlease select the difficulty level:\")\n",
    "    print(\"1. Easy (10 chances)\")\n",
    "    print(\"2. Medium (5 chances)\")\n",
    "    print(\"3. Hard (3 chances)\")\n",
    "    \n",
    "    while True:\n",
    "        choice = input(\"\\nEnter your choice (1, 2, or 3): \")\n",
    "        if choice == '1':\n",
    "            return 10\n",
    "        elif choice == '2':\n",
    "            return 5\n",
    "        elif choice == '3':\n",
    "            return 3\n",
    "        else:\n",
    "            print(\"Invalid input! Please select a valid difficulty level.\")"
   ]
  },
  {
   "cell_type": "code",
   "execution_count": 6,
   "id": "12c16a74-e188-4b41-9829-c6441b3408a5",
   "metadata": {},
   "outputs": [],
   "source": [
    "def play_game():\n",
    "    # Start by displaying the welcome message and selecting difficulty\n",
    "    welcome_message()\n",
    "    chances = select_difficulty()\n",
    "    \n",
    "    # Random number generation between 1 and 100\n",
    "    number_to_guess = random.randint(1, 100)\n",
    "    attempts = 0\n",
    "    start_time = time.time()\n",
    "    \n",
    "    while chances > 0:\n",
    "        try:\n",
    "            guess = int(input(f\"\\nYou have {chances} chances left. Enter your guess: \"))\n",
    "            attempts += 1\n",
    "        except ValueError:\n",
    "            print(\"Please enter a valid integer.\")\n",
    "            continue\n",
    "        \n",
    "        if guess == number_to_guess:\n",
    "            print(f\"Congratulations! You guessed the correct number in {attempts} attempts.\")\n",
    "            break\n",
    "        elif guess > number_to_guess:\n",
    "            print(\"Incorrect! The number is less than your guess.\")\n",
    "        else:\n",
    "            print(\"Incorrect! The number is greater than your guess.\")\n",
    "        \n",
    "        chances -= 1\n",
    "    \n",
    "    end_time = time.time()\n",
    "    time_taken = round(end_time - start_time, 2)\n",
    "\n",
    "    if chances == 0:\n",
    "        print(f\"\\nSorry, you've run out of chances. The number was {number_to_guess}.\")\n",
    "    \n",
    "    print(f\"You took {time_taken} seconds to finish the game.\")"
   ]
  },
  {
   "cell_type": "code",
   "execution_count": 7,
   "id": "ac96caca-55f2-45e5-89b8-c1932dc3fc90",
   "metadata": {},
   "outputs": [],
   "source": [
    "def play_again():\n",
    "    while True:\n",
    "        choice = input(\"\\nDo you want to play again? (yes/no): \").lower()\n",
    "        if choice == 'yes':\n",
    "            return True\n",
    "        elif choice == 'no':\n",
    "            print(\"Thank you for playing the Number Guessing Game!\")\n",
    "            return False\n",
    "        else:\n",
    "            print(\"Please enter a valid response (yes or no).\")\n"
   ]
  },
  {
   "cell_type": "code",
   "execution_count": null,
   "id": "6d5c0882-6e0d-4551-b6e4-a46239e746d9",
   "metadata": {},
   "outputs": [
    {
     "name": "stdout",
     "output_type": "stream",
     "text": [
      "Welcome to the Number Guessing Game!\n",
      "I'm thinking of a number between 1 and 100.\n",
      "\n",
      "Please select the difficulty level:\n",
      "1. Easy (10 chances)\n",
      "2. Medium (5 chances)\n",
      "3. Hard (3 chances)\n"
     ]
    }
   ],
   "source": [
    "def main():\n",
    "    while True:\n",
    "        play_game()\n",
    "        if not play_again():\n",
    "            break\n",
    "\n",
    "if __name__ == \"__main__\":\n",
    "    main()\n"
   ]
  }
 ],
 "metadata": {
  "kernelspec": {
   "display_name": "Python 3",
   "language": "python",
   "name": "python3"
  },
  "language_info": {
   "codemirror_mode": {
    "name": "ipython",
    "version": 3
   },
   "file_extension": ".py",
   "mimetype": "text/x-python",
   "name": "python",
   "nbconvert_exporter": "python",
   "pygments_lexer": "ipython3",
   "version": "3.12.5"
  }
 },
 "nbformat": 4,
 "nbformat_minor": 5
}
